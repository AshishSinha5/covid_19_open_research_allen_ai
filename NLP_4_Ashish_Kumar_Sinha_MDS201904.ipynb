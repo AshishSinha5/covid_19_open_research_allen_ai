{
 "cells": [
  {
   "cell_type": "markdown",
   "metadata": {},
   "source": [
    "## Ashish Kumar Sinha\n",
    "### MDS201904\n",
    "### NLP-ASSN-4\n",
    "Reference - https://github.com/spro/practical-pytorch/blob/master/char-rnn-generation/char-rnn-generation.ipynb"
   ]
  },
  {
   "cell_type": "code",
   "execution_count": 1,
   "metadata": {},
   "outputs": [
    {
     "name": "stderr",
     "output_type": "stream",
     "text": [
      "[nltk_data] Downloading package punkt to\n",
      "[nltk_data]     C:\\Users\\ashis\\AppData\\Roaming\\nltk_data...\n",
      "[nltk_data]   Package punkt is already up-to-date!\n"
     ]
    },
    {
     "name": "stdout",
     "output_type": "stream",
     "text": [
      "Requirement already satisfied: langid in c:\\users\\ashis\\anaconda3\\lib\\site-packages (1.1.6)\n",
      "Requirement already satisfied: numpy in c:\\users\\ashis\\anaconda3\\lib\\site-packages (from langid) (1.18.1)\n",
      "Requirement already satisfied: in_place in c:\\users\\ashis\\anaconda3\\lib\\site-packages (0.5.0)\n",
      "Requirement already satisfied: jaraco.windows; sys_platform == \"win32\" and python_version < \"3.8\" and platform_python_implementation != \"PyPy\" in c:\\users\\ashis\\anaconda3\\lib\\site-packages (from in_place) (5.5.0)\n",
      "Requirement already satisfied: jaraco.collections in c:\\users\\ashis\\anaconda3\\lib\\site-packages (from jaraco.windows; sys_platform == \"win32\" and python_version < \"3.8\" and platform_python_implementation != \"PyPy\"->in_place) (3.3.0)\n",
      "Requirement already satisfied: jaraco.structures>=1.1.1 in c:\\users\\ashis\\anaconda3\\lib\\site-packages (from jaraco.windows; sys_platform == \"win32\" and python_version < \"3.8\" and platform_python_implementation != \"PyPy\"->in_place) (2.1.0)\n",
      "Requirement already satisfied: jaraco.text in c:\\users\\ashis\\anaconda3\\lib\\site-packages (from jaraco.windows; sys_platform == \"win32\" and python_version < \"3.8\" and platform_python_implementation != \"PyPy\"->in_place) (3.5.0)\n",
      "Requirement already satisfied: path in c:\\users\\ashis\\anaconda3\\lib\\site-packages (from jaraco.windows; sys_platform == \"win32\" and python_version < \"3.8\" and platform_python_implementation != \"PyPy\"->in_place) (13.1.0)\n",
      "Requirement already satisfied: jaraco.ui in c:\\users\\ashis\\anaconda3\\lib\\site-packages (from jaraco.windows; sys_platform == \"win32\" and python_version < \"3.8\" and platform_python_implementation != \"PyPy\"->in_place) (2.3.0)\n",
      "Requirement already satisfied: more-itertools in c:\\users\\ashis\\anaconda3\\lib\\site-packages (from jaraco.windows; sys_platform == \"win32\" and python_version < \"3.8\" and platform_python_implementation != \"PyPy\"->in_place) (8.2.0)\n",
      "Requirement already satisfied: jaraco.classes in c:\\users\\ashis\\anaconda3\\lib\\site-packages (from jaraco.collections->jaraco.windows; sys_platform == \"win32\" and python_version < \"3.8\" and platform_python_implementation != \"PyPy\"->in_place) (3.2.1)\n",
      "Requirement already satisfied: jaraco.functools in c:\\users\\ashis\\anaconda3\\lib\\site-packages (from jaraco.text->jaraco.windows; sys_platform == \"win32\" and python_version < \"3.8\" and platform_python_implementation != \"PyPy\"->in_place) (3.3.0)\n",
      "Requirement already satisfied: importlib-metadata>=0.5; python_version < \"3.8\" in c:\\users\\ashis\\anaconda3\\lib\\site-packages (from path->jaraco.windows; sys_platform == \"win32\" and python_version < \"3.8\" and platform_python_implementation != \"PyPy\"->in_place) (1.7.0)\n",
      "Requirement already satisfied: zipp>=0.5 in c:\\users\\ashis\\anaconda3\\lib\\site-packages (from importlib-metadata>=0.5; python_version < \"3.8\"->path->jaraco.windows; sys_platform == \"win32\" and python_version < \"3.8\" and platform_python_implementation != \"PyPy\"->in_place) (2.2.0)\n"
     ]
    }
   ],
   "source": [
    "import os\n",
    "from tqdm import tqdm\n",
    "import re\n",
    "import fileinput\n",
    "import collections\n",
    "\n",
    "import nltk\n",
    "from nltk import ngrams\n",
    "import pickle\n",
    "import csv\n",
    "import operator\n",
    "import random\n",
    "import math\n",
    "from time import time\n",
    "import logging\n",
    "# from numba import jit, cuda\n",
    "from IPython.display import Image\n",
    "nltk.download('punkt')\n",
    "\n",
    "from nltk.tokenize import sent_tokenize, word_tokenize\n",
    "from nltk.tokenize.punkt import PunktSentenceTokenizer, PunktParameters\n",
    "from nltk.stem import WordNetLemmatizer\n",
    "from gensim.test.utils import datapath\n",
    "from gensim import utils\n",
    "import gensim.models\n",
    "from gensim.utils import lemmatize\n",
    "from gensim.parsing.preprocessing import remove_stopwords\n",
    "from gensim.models import Word2Vec, KeyedVectors\n",
    "\n",
    "\n",
    "#import spacy\n",
    "#from spacy_langdetect import LanguageDetector\n",
    "#nlp = spacy.load('en')\n",
    "#nlp.add_pipe(LanguageDetector(), name='language_detector', last=True)\n",
    "\n",
    "! pip install langid\n",
    "import langid\n",
    "\n",
    "import gc\n",
    "\n",
    "! pip install in_place\n",
    "import in_place"
   ]
  },
  {
   "cell_type": "code",
   "execution_count": null,
   "metadata": {},
   "outputs": [],
   "source": []
  },
  {
   "cell_type": "code",
   "execution_count": 2,
   "metadata": {},
   "outputs": [],
   "source": [
    "import unidecode\n",
    "import string\n",
    "import random\n",
    "import re\n",
    "import linecache\n",
    "import itertools\n",
    "\n",
    "all_characters = string.printable\n",
    "n_characters = len(all_characters)"
   ]
  },
  {
   "cell_type": "code",
   "execution_count": 3,
   "metadata": {},
   "outputs": [
    {
     "data": {
      "text/plain": [
       "'0123456789abcdefghijklmnopqrstuvwxyzABCDEFGHIJKLMNOPQRSTUVWXYZ!\"#$%&\\'()*+,-./:;<=>?@[\\\\]^_`{|}~ \\t\\n\\r\\x0b\\x0c'"
      ]
     },
     "execution_count": 3,
     "metadata": {},
     "output_type": "execute_result"
    }
   ],
   "source": [
    "all_characters"
   ]
  },
  {
   "cell_type": "markdown",
   "metadata": {},
   "source": [
    "## Preparing Data "
   ]
  },
  {
   "cell_type": "code",
   "execution_count": 4,
   "metadata": {},
   "outputs": [],
   "source": [
    "def make_train_data(file_path, corpus_prop = 0.5):\n",
    "    \"\"\"\n",
    "    args : file_path : path of file for preprocessed corpus\n",
    "    returns : splits raw text to train and test set\n",
    "    \"\"\"\n",
    "    \n",
    "    \"\"\"\n",
    "    1 - count the number of lines\n",
    "    2 - |train_set| = train_prop * number_of_lines\n",
    "    \"\"\"\n",
    "    \n",
    "    train_file = 'data/train_preprocessed.txt'\n",
    "    print('getting line count')\n",
    "    with open(file_path, 'r', encoding = 'utf-8') as f:\n",
    "        for i, l in tqdm(enumerate(f)):\n",
    "            pass\n",
    "    num_lines =  i + 1\n",
    "    print('Number of lines = {}'.format(num_lines))\n",
    "    print('building train set using only {} % of the entire corpus'.format(corpus_prop*100))\n",
    "    f1 = open(train_file, 'w', encoding = 'utf-8')\n",
    "    with open(file_path, 'r', encoding = 'utf-8') as f:\n",
    "        for i, l in tqdm(enumerate(f)):\n",
    "            if i < (num_lines*corpus_prop):\n",
    "                f1.write(l)\n",
    "    with open(train_file, 'r', encoding = 'utf-8') as f:\n",
    "        for i, l in tqdm(enumerate(f)):\n",
    "            pass\n",
    "    print(\"Number of sentences in train set = {}\".format(i+1))"
   ]
  },
  {
   "cell_type": "code",
   "execution_count": 5,
   "metadata": {},
   "outputs": [
    {
     "name": "stderr",
     "output_type": "stream",
     "text": [
      "85283it [00:00, 846647.94it/s]"
     ]
    },
    {
     "name": "stdout",
     "output_type": "stream",
     "text": [
      "getting line count\n"
     ]
    },
    {
     "name": "stderr",
     "output_type": "stream",
     "text": [
      "8374537it [00:07, 1050974.05it/s]\n",
      "41631it [00:00, 413279.50it/s]"
     ]
    },
    {
     "name": "stdout",
     "output_type": "stream",
     "text": [
      "Number of lines = 8374537\n",
      "building train set using only 50.0 % of the entire corpus\n"
     ]
    },
    {
     "name": "stderr",
     "output_type": "stream",
     "text": [
      "8374537it [00:12, 647078.73it/s] \n",
      "4187269it [00:03, 1097007.94it/s]"
     ]
    },
    {
     "name": "stdout",
     "output_type": "stream",
     "text": [
      "Number of sentences in train set = 4187269\n"
     ]
    },
    {
     "name": "stderr",
     "output_type": "stream",
     "text": [
      "\n"
     ]
    }
   ],
   "source": [
    "file_path = 'data/preprocessed.txt'\n",
    "make_train_data(file_path, corpus_prop=0.5)"
   ]
  },
  {
   "cell_type": "markdown",
   "metadata": {},
   "source": [
    "To make inputs out of this big string of data, we will be splitting it into chunks."
   ]
  },
  {
   "cell_type": "code",
   "execution_count": 5,
   "metadata": {},
   "outputs": [],
   "source": [
    "class text_generator:\n",
    "    # a text generator class to generate text iteratively\n",
    "    def __init__(self,file_path, file_len, chunk_size):\n",
    "        self.file_path = file_path\n",
    "        self.chunk_size = chunk_size\n",
    "        self.file_len = file_len\n",
    "    \n",
    "    def random_chunk(self):\n",
    "        start_index = random.randint(0, self.file_len - self.chunk_size)\n",
    "        end_index = start_index + self.chunk_size + 1\n",
    "        lines = \"\"\n",
    "        \"\"\"for i in range(start_index,end_index):\n",
    "            line = linecache.getline(self.file_path, i)\n",
    "            l = \"\"\n",
    "            for j in line:\n",
    "                # removing all charecter not in all_charecters\n",
    "                if j in all_characters:\n",
    "                    l+=j\n",
    "            lines += l\"\"\"\n",
    "        with open(self.file_path, \"r\", encoding='utf-8') as text_file:\n",
    "            for line in itertools.islice(text_file, start_index, end_index):\n",
    "                l = \"\"\n",
    "                for j in line:\n",
    "                    # removing all charecter not in all_charecters\n",
    "                    if j in all_characters:\n",
    "                        l+=j\n",
    "                lines += l\n",
    "        text_file.close()\n",
    "        return lines"
   ]
  },
  {
   "cell_type": "code",
   "execution_count": 6,
   "metadata": {},
   "outputs": [],
   "source": [
    "train_file = 'data/train_preprocessed.txt'\n",
    "train_len = 4187269\n",
    "chunk_size = 50\n",
    "text_generator = text_generator(train_file, train_len, chunk_size)"
   ]
  },
  {
   "cell_type": "code",
   "execution_count": 7,
   "metadata": {},
   "outputs": [
    {
     "data": {
      "text/plain": [
       "'these include malaria travellers diarrhoea sexually transmitted infections and rtas\\nhealth hazards that are rare should be put into perspective and discussed based on the individual travellers risk profile\\ncurrent best practice emphasizes the need for a patientcentred approach and shared decisionmaking\\ntherefore for each risk the travel medicine practitioner must balance the need for prophylaxis against the realistic risk of infection and the likelihood of adherence to preventive measures by the traveller\\nthe latter depends on a number of factors including perception of risk concerns about available preventive measures and treatments and preferred risk management options\\ntravellers should know that no intervention is fully protective\\nmalaria is one of the most common and serious causes of fever in travellers occurring while abroad or on return\\nthe risk of malaria is greatest in subsaharan africa intermediate in south asia and lowest in central and south america and southeast asia\\nhowever the risk for acquiring malaria can vary widely from traveller to traveller from region to region and within countries\\nthose at particular risk of disease acquisition are longterm vfr travellers while those at risk of severe disease are pregnant women travellers with complex comorbidities and elderly individuals\\nprevention of infection involves understanding the disease process and the abcd of malariaawareness of risk bite prevention from nocturnal anopheles spp\\nmosquitoes chemoprophylaxis prompt diagnosis of infection\\nhealth risk assessment bite prevention measures include use of insect repellent such as deet covering up during the highest risk time periods and sleeping under an insecticideimpregnated mosquito net if enclosed and screened accommodation is not available\\nthe choice of chemoprophylaxis depends on the type of malaria that is endemic in the region being visited and whether drug resistance is present\\nit also depends on individual factors and preferences for the different drug regimens such as dosing frequency and affordability\\nfor countries with a high prevalence of chloroquineresistant p. falciparum mefloquine doxycycline or atovaquoneeproguanil can be taken\\nfor the limited areas with little chloroquine resistance chloroquine plus proguanil should be taken and in areas without resistance chloroquine alone can be used\\npractitioners should be aware of the adverse effects of and contraindications to all the antimalarials\\nfor detailed information including adverse effects and special situations such as pregnancy see the uk malaria guidelines at linesfortravellersfromtheuk\\ntravellers should be advised that although malaria prevention methods are highly effective they do not provide protection and they should seek immediate medical attention if they have symptoms suggestive of infection\\ndiarrhoea is the most common illness affecting travellers to developing countries with 20e60 being affected\\nit can cause significant morbidity and can result in loss of travel time amendment of itineraries and medical encounters including hospitalization\\ntravellers diarrhoea is usually nonbloody watery may be frequent and explosive but has minimal or no fever\\ntable prevention of malaria awareness of risk mefloquine a a 20e50 concentration is usually recommended and is safe for all travellers months of age manufacturers guidelines for use should be followed\\nb before prescribing an antimalarial agent the prevalence species and potential resistance of malaria found in the travel destination must be determined as should any medical contraindications\\nthe most common causal organisms are bacteria particularly enterotoxigenic escherichia coli enteroaggregative e. coli salmonella spp\\ncampylobacter and shigella but viruses and protozoa can also be the cause\\nrarer but more serious are the enteric fevers which have the same risk factors as other gastrointestinal infections\\ntravellers can be concerned about the risk of cholera but apart from a few specific circumstances this poses little threat to most travellers\\nthe travel health practitioner should discuss both prevention and selftreatment\\nprevention advice should focus on food and water hygiene and it is useful to emphasize the boil it cook it peel it or forget it approach to eating while abroad\\nthe importance of hand hygiene should also be stressed however it is not always easy to follow this advice and illness can still occur despite adhering to it\\nprophylaxis with antibiotics is recommended in limited circumstances\\nguidelines on selftreatment should stress the importance of maintaining hydration and advise when to control symptoms with an antimotility agent and when to treat illness with a short course of antibiotics\\nmild diarrhoea should only require increased hydration and possibly an antimotility agent but antibiotics may be advised for moderate diarrhoea and should be used if it is severe\\nselfadministered fluoroquinolone antibiotics or a macrolide significantly reduce the duration and severity of symptoms in acute watery diarrhoea\\na single dose of ciprofloxacin or levofloxacin can be sufficient in many cases if taken soon after the onset of symptoms but treatment can be continued for up to days if diarrhoea persists\\nin areas where fluoroquinoloneresistant campylobacter is widespread azithromycin is the drug of choice\\nhowever owing to its proarrhythmogenic properties it should be avoided in elderly travellers with cardiovascular disease\\nfor moderate diarrhoea the combination of antibiotic and loperamide is more effective in reducing both the duration and severity of symptoms compared with antibiotics alone\\nhowever an antimotility agent is not advised if the diarrhoea is dysenteric or if the person is febrile\\npackaged oral rehydration salts can be used to maintain hydration in infants young children and the elderly\\nmedical advice should be sought abroad if symptoms continue or if the diarrhoea is dysenteric\\ntravellers with persistent diarrhoea on return from their trip should undergo further investigations particularly looking for protozoan infection with giardia intestinalis or cryptosporidium\\ntravellers and tourists often engage in risky behaviour when abroad and may have unprotected sexual intercourse with other travellers or locals from highrisk populations\\nstudies have found that 25e30 of people with a confirmed sti attending a genitourinary medicine clinic reported a new partner while away with 60e70 not using or inconsistently using condoms\\nthe risk of transmission of stis and hiv should be discussed with all travellers who seek pretravel advice as the risk can be virtually eliminated by practising safer sex\\nraising awareness of these sensitive issues is an important part of the travel health consultation although some practitioners find them difficult to address\\nless common risk factors for hiv infection include invasive medical treatment and transfusion with contaminated blood which are of particular importance in subsaharan africa where the seroprevalence of hiv can approach\\nvaccinations vaccinepreventable diseases are uncommon to rare in travellers\\nthe decision to vaccinate a traveller is based on the epidemiology and risk of the disease the effectiveness of the vaccine the risk of vaccineassociated adverse events the individuals underlying health the cost of vaccination and the ability to employ other diseasepreventing measures\\n'"
      ]
     },
     "execution_count": 7,
     "metadata": {},
     "output_type": "execute_result"
    }
   ],
   "source": [
    "text_generator.random_chunk()"
   ]
  },
  {
   "cell_type": "markdown",
   "metadata": {},
   "source": [
    "## Build Model\n",
    "We are using PyTorch for our implementation <br>\n",
    "This model will take as input the character for step $t_{-1}$ and is expected to output the next character $t$. There are three layers - one linear layer that encodes the input character into an internal state, one GRU layer (which may itself have multiple layers) that operates on that internal state and a hidden state, and a decoder layer that outputs the probability distribution."
   ]
  },
  {
   "cell_type": "code",
   "execution_count": 8,
   "metadata": {},
   "outputs": [],
   "source": [
    "import torch\n",
    "import torch.nn as nn\n",
    "from torch.autograd import Variable"
   ]
  },
  {
   "cell_type": "markdown",
   "metadata": {},
   "source": [
    "#### Training on GPU"
   ]
  },
  {
   "cell_type": "code",
   "execution_count": 9,
   "metadata": {},
   "outputs": [
    {
     "data": {
      "text/plain": [
       "device(type='cuda', index=0)"
      ]
     },
     "execution_count": 9,
     "metadata": {},
     "output_type": "execute_result"
    }
   ],
   "source": [
    "device = torch.device(\"cuda:0\" if torch.cuda.is_available() else \"cpu\")\n",
    "device"
   ]
  },
  {
   "cell_type": "code",
   "execution_count": 10,
   "metadata": {},
   "outputs": [],
   "source": [
    "class RNN(nn.Module):\n",
    "    def __init__(self, input_size, hidden_size, output_size, n_layers=1):\n",
    "        super(RNN, self).__init__()\n",
    "        self.input_size = input_size\n",
    "        self.hidden_size = hidden_size\n",
    "        self.output_size = output_size\n",
    "        self.n_layers = n_layers\n",
    "        \n",
    "        self.encoder = nn.Embedding(input_size, hidden_size)\n",
    "        self.gru = nn.GRU(hidden_size, hidden_size, n_layers)\n",
    "        self.decoder = nn.Linear(hidden_size, output_size)\n",
    "    \n",
    "    def forward(self, input, hidden):\n",
    "        input = self.encoder(input.view(1, -1))\n",
    "        output, hidden = self.gru(input.view(1, 1, -1), hidden)\n",
    "        output = self.decoder(output.view(1, -1))\n",
    "        return output, hidden\n",
    "\n",
    "    def init_hidden(self):\n",
    "        return Variable(torch.zeros(self.n_layers, 1, self.hidden_size))"
   ]
  },
  {
   "cell_type": "markdown",
   "metadata": {},
   "source": [
    "# Inputs and Targets\n",
    "\n",
    "Each chunk will be turned into a tensor, specifically a LongTensor (used for integer values), by looping through the characters of the string and looking up the index of each character in all_characters."
   ]
  },
  {
   "cell_type": "code",
   "execution_count": 11,
   "metadata": {},
   "outputs": [
    {
     "name": "stdout",
     "output_type": "stream",
     "text": [
      "tensor([10, 11, 12, 39, 40, 41, 74, 76,  1,  3,  2])\n"
     ]
    }
   ],
   "source": [
    "# Turn string into list of longs\n",
    "def char_tensor(string):\n",
    "    tensor = torch.zeros(len(string)).long()\n",
    "    for c in range(len(string)):\n",
    "        tensor[c] = all_characters.index(string[c])\n",
    "    return Variable(tensor)\n",
    "\n",
    "print(char_tensor('abcDEF-/132'))"
   ]
  },
  {
   "cell_type": "markdown",
   "metadata": {},
   "source": [
    "Finally we can assemble a pair of input and target tensors for training, from a random chunk. The input will be all characters up to the last, and the target will be all characters from the first. So if our chunk is \"abc\" the input will correspond to \"ab\" while the target is \"bc\"."
   ]
  },
  {
   "cell_type": "code",
   "execution_count": 12,
   "metadata": {},
   "outputs": [],
   "source": [
    "def random_training_set():    \n",
    "    chunk = text_generator.random_chunk()\n",
    "    inp = char_tensor(chunk[:-1])\n",
    "    target = char_tensor(chunk[1:])\n",
    "    del chunk\n",
    "    return inp, target"
   ]
  },
  {
   "cell_type": "code",
   "execution_count": 13,
   "metadata": {},
   "outputs": [
    {
     "name": "stdout",
     "output_type": "stream",
     "text": [
      "tensor([29, 17, 14,  ..., 28, 18, 28])\n",
      "tensor([17, 14, 27,  ..., 18, 28, 96])\n"
     ]
    }
   ],
   "source": [
    "inp, target = random_training_set()\n",
    "print(inp)\n",
    "print(target)"
   ]
  },
  {
   "cell_type": "markdown",
   "metadata": {},
   "source": [
    "## Evaluating\n",
    "\n",
    "To evaluate the network we will feed one character at a time, use the outputs of the network as a probability distribution for the next character, and repeat. To start generation we pass a priming string to start building up the hidden state, from which we then generate one character at a time.\n"
   ]
  },
  {
   "cell_type": "code",
   "execution_count": 33,
   "metadata": {},
   "outputs": [],
   "source": [
    "def evaluate(decoder, prime_str='A', predict_len=100, temperature=0.8, test = False):\n",
    "    hidden = decoder.init_hidden().to(device)\n",
    "    prime_input = char_tensor(prime_str).to(device)\n",
    "    predicted = prime_str\n",
    "\n",
    "    with torch.no_grad():\n",
    "        # Use priming string to \"build up\" hidden state\n",
    "        for p in range(len(prime_str) - 1):\n",
    "            _, hidden = decoder(torch.tensor(prime_input[p]), hidden)\n",
    "\n",
    "        inp = prime_input[-1].to(device)\n",
    "        if not test:\n",
    "            for p in range(predict_len):\n",
    "                hidden = hidden.to(device)\n",
    "                inp = inp.to(device)\n",
    "                output, hidden = decoder(inp, hidden)\n",
    "                # Sample from the network as a multinomial distribution\n",
    "                output_dist = output.data.view(-1).div(temperature).exp()\n",
    "                top_i = torch.multinomial(output_dist, 1)[0]\n",
    "\n",
    "                # Add predicted character to string and use as next input\n",
    "                predicted_char = all_characters[top_i]\n",
    "                predicted += predicted_char\n",
    "                inp = char_tensor(predicted_char)\n",
    "        else:\n",
    "            for p in range(1000):\n",
    "                hidden = hidden.to(device)\n",
    "                inp = inp.to(device)\n",
    "                output, hidden = decoder(inp, hidden)\n",
    "                # Sample from the network as a multinomial distribution\n",
    "                output_dist = output.data.view(-1).div(temperature).exp()\n",
    "                top_i = torch.multinomial(output_dist, 1)[0]\n",
    "\n",
    "                # Add predicted character to string and use as next input\n",
    "                predicted_char = all_characters[top_i]\n",
    "                predicted += predicted_char\n",
    "                inp = char_tensor(predicted_char)\n",
    "            \n",
    "            while predicted_char != '\\n':\n",
    "                hidden = hidden.to(device)\n",
    "                inp = inp.to(device)\n",
    "                output, hidden = decoder(inp, hidden)\n",
    "                # Sample from the network as a multinomial distribution\n",
    "                output_dist = output.data.view(-1).div(temperature).exp()\n",
    "                top_i = torch.multinomial(output_dist, 1)[0]\n",
    "\n",
    "                # Add predicted character to string and use as next input\n",
    "                predicted_char = all_characters[top_i]\n",
    "                predicted += predicted_char\n",
    "                inp = char_tensor(predicted_char)\n",
    "                \n",
    "    return predicted"
   ]
  },
  {
   "cell_type": "markdown",
   "metadata": {},
   "source": [
    "## Training\n",
    "\n",
    "A helper to print the amount of time passed:"
   ]
  },
  {
   "cell_type": "code",
   "execution_count": 20,
   "metadata": {},
   "outputs": [],
   "source": [
    "import time, math\n",
    "\n",
    "def time_since(since):\n",
    "    s = time.time() - since\n",
    "    m = math.floor(s / 60)\n",
    "    s -= m * 60\n",
    "    return '%dm %ds' % (m, s)"
   ]
  },
  {
   "cell_type": "markdown",
   "metadata": {},
   "source": [
    "The main training function"
   ]
  },
  {
   "cell_type": "code",
   "execution_count": 21,
   "metadata": {},
   "outputs": [],
   "source": [
    "def train(inp, target):\n",
    "    torch.cuda.empty_cache()\n",
    "    inp = inp.to(device)\n",
    "    target = target.to(device)\n",
    "    hidden = decoder.init_hidden().to(device)\n",
    "    decoder.zero_grad()\n",
    "    loss = 0\n",
    "    for c in range(len(inp)):\n",
    "        output, hidden = decoder(torch.tensor(inp[c]), hidden)\n",
    "        loss += criterion(output, torch.tensor(target[c]).reshape(1,))\n",
    "    del output\n",
    "    del hidden\n",
    "    loss.backward()\n",
    "    decoder_optimizer.step()\n",
    "    return loss / len(inp)"
   ]
  },
  {
   "cell_type": "markdown",
   "metadata": {},
   "source": [
    "Then we define the training parameters, instantiate the model, and start training:"
   ]
  },
  {
   "cell_type": "code",
   "execution_count": 22,
   "metadata": {},
   "outputs": [],
   "source": [
    "n_epochs = 100\n",
    "print_every = 10\n",
    "plot_every = 10\n",
    "hidden_size = 100\n",
    "n_layers = 1\n",
    "lr = 0.005\n",
    "\n",
    "decoder = RNN(n_characters, hidden_size, n_characters, n_layers).to(device)\n",
    "decoder_optimizer = torch.optim.Adam(decoder.parameters(), lr=lr)\n",
    "criterion = nn.CrossEntropyLoss()\n",
    "\n",
    "start = time.time()\n",
    "all_losses = []\n",
    "loss_avg = 0"
   ]
  },
  {
   "cell_type": "code",
   "execution_count": 23,
   "metadata": {},
   "outputs": [
    {
     "name": "stderr",
     "output_type": "stream",
     "text": [
      "  0%|                                                                                          | 0/100 [00:00<?, ?it/s]C:\\Users\\ashis\\Anaconda3\\lib\\site-packages\\ipykernel_launcher.py:9: UserWarning: To copy construct from a tensor, it is recommended to use sourceTensor.clone().detach() or sourceTensor.clone().detach().requires_grad_(True), rather than torch.tensor(sourceTensor).\n",
      "  if __name__ == '__main__':\n",
      "C:\\Users\\ashis\\Anaconda3\\lib\\site-packages\\ipykernel_launcher.py:10: UserWarning: To copy construct from a tensor, it is recommended to use sourceTensor.clone().detach() or sourceTensor.clone().detach().requires_grad_(True), rather than torch.tensor(sourceTensor).\n",
      "  # Remove the CWD from sys.path while we load stuff.\n",
      " 10%|████████                                                                         | 10/100 [01:37<14:51,  9.91s/it]"
     ]
    },
    {
     "name": "stdout",
     "output_type": "stream",
     "text": [
      "[1m 41s (10 10%) 2.8368]\n",
      "theto\n",
      "tes aricutepipin iomibpclil y icatd tifrole r ei mcol tn eaanitoide ctos elind osrmtresa  tirose \n",
      "\n"
     ]
    },
    {
     "name": "stderr",
     "output_type": "stream",
     "text": [
      " 20%|████████████████▏                                                                | 20/100 [03:28<14:34, 10.93s/it]"
     ]
    },
    {
     "name": "stdout",
     "output_type": "stream",
     "text": [
      "[3m 31s (20 20%) 2.5737]\n",
      "thaistu an de timintre sed omompos aes aeceacbe sevenre f dr ata arphals ind tof ive ine ale ucondife  \n",
      "\n"
     ]
    },
    {
     "name": "stderr",
     "output_type": "stream",
     "text": [
      " 30%|████████████████████████▎                                                        | 30/100 [05:10<12:09, 10.42s/it]"
     ]
    },
    {
     "name": "stdout",
     "output_type": "stream",
     "text": [
      "[5m 13s (30 30%) 2.4428]\n",
      "thes\n",
      "g in edre pro\n",
      "site ofo mecen ce whe ser enof pratre as in ins olumire thing thes er ote ge deched \n",
      "\n"
     ]
    },
    {
     "name": "stderr",
     "output_type": "stream",
     "text": [
      " 40%|████████████████████████████████▍                                                | 40/100 [07:10<11:46, 11.78s/it]"
     ]
    },
    {
     "name": "stdout",
     "output_type": "stream",
     "text": [
      "[7m 13s (40 40%) 2.3232]\n",
      "the porcatle patine the ont puple co rqulith che th bulluto thecy in an pas ben harenacas vont darmith \n",
      "\n"
     ]
    },
    {
     "name": "stderr",
     "output_type": "stream",
     "text": [
      " 50%|████████████████████████████████████████▌                                        | 50/100 [08:53<08:20, 10.02s/it]"
     ]
    },
    {
     "name": "stdout",
     "output_type": "stream",
     "text": [
      "[8m 56s (50 50%) 2.3006]\n",
      "th\n",
      "inly ase thon congesond urseder\n",
      "ricanne ll ainod ad ctions in of thentithe freont pronitis cecitamu \n",
      "\n"
     ]
    },
    {
     "name": "stderr",
     "output_type": "stream",
     "text": [
      " 60%|████████████████████████████████████████████████▌                                | 60/100 [10:43<07:08, 10.70s/it]"
     ]
    },
    {
     "name": "stdout",
     "output_type": "stream",
     "text": [
      "[10m 47s (60 60%) 2.2974]\n",
      "th preppkird innanged diang story row is stion anatiof thins pat\n",
      "and th the fredule derfowe stincyes u \n",
      "\n"
     ]
    },
    {
     "name": "stderr",
     "output_type": "stream",
     "text": [
      " 70%|████████████████████████████████████████████████████████▋                        | 70/100 [12:39<06:55, 13.85s/it]"
     ]
    },
    {
     "name": "stdout",
     "output_type": "stream",
     "text": [
      "[12m 42s (70 70%) 2.1629]\n",
      "thagity sinth anis of fore viated grpersus ther the ntrody\n",
      "of lins suteions om the fosing win lardde o \n",
      "\n"
     ]
    },
    {
     "name": "stderr",
     "output_type": "stream",
     "text": [
      " 80%|████████████████████████████████████████████████████████████████▊                | 80/100 [14:30<03:34, 10.72s/it]"
     ]
    },
    {
     "name": "stdout",
     "output_type": "stream",
     "text": [
      "[14m 34s (80 80%) 2.1252]\n",
      "tho of and shection condpant in to sow dical im moal cotired of of theal a ncantund the\n",
      "thate ca evion \n",
      "\n"
     ]
    },
    {
     "name": "stderr",
     "output_type": "stream",
     "text": [
      " 90%|████████████████████████████████████████████████████████████████████████▉        | 90/100 [16:29<01:59, 11.98s/it]"
     ]
    },
    {
     "name": "stdout",
     "output_type": "stream",
     "text": [
      "[16m 32s (90 90%) 2.1216]\n",
      "theer the and wo the cichoriomcting the eting preap digsia gendical insing winat in is ellined the sur \n",
      "\n"
     ]
    },
    {
     "name": "stderr",
     "output_type": "stream",
     "text": [
      "100%|████████████████████████████████████████████████████████████████████████████████| 100/100 [18:17<00:00, 10.97s/it]"
     ]
    },
    {
     "name": "stdout",
     "output_type": "stream",
     "text": [
      "[18m 20s (100 100%) 2.1338]\n",
      "thy the the for fretithe an were conce pared pectias indeilinurimit poutings padient lates actiect and \n",
      "\n"
     ]
    },
    {
     "name": "stderr",
     "output_type": "stream",
     "text": [
      "\n"
     ]
    }
   ],
   "source": [
    "for epoch in tqdm(range(1, n_epochs + 1),position = 0, leave = True):\n",
    "    torch.cuda.empty_cache()\n",
    "    \n",
    "    loss = train(*random_training_set())       \n",
    "    loss_avg += loss\n",
    "    \n",
    "    if epoch % print_every == 0:\n",
    "        print('[%s (%d %d%%) %.4f]' % (time_since(start), epoch, epoch / n_epochs * 100, loss))\n",
    "        print(evaluate(decoder, 'th', 100), '\\n')\n",
    "\n",
    "    if epoch % plot_every == 0:\n",
    "        all_losses.append(loss_avg / plot_every)\n",
    "        loss_avg = 0\n",
    "\n",
    "    del loss"
   ]
  },
  {
   "cell_type": "code",
   "execution_count": 25,
   "metadata": {},
   "outputs": [
    {
     "data": {
      "text/plain": [
       "[<matplotlib.lines.Line2D at 0x2abd7024cc8>]"
      ]
     },
     "execution_count": 25,
     "metadata": {},
     "output_type": "execute_result"
    },
    {
     "data": {
      "image/png": "[encoded data removed]",
      "text/plain": [
       "<Figure size 432x288 with 1 Axes>"
      ]
     },
     "metadata": {
      "needs_background": "light"
     },
     "output_type": "display_data"
    }
   ],
   "source": [
    "import matplotlib.pyplot as plt\n",
    "import matplotlib.ticker as ticker\n",
    "%matplotlib inline\n",
    "\n",
    "plt.figure()\n",
    "plt.title(\"loss\")\n",
    "plt.plot(all_losses)"
   ]
  },
  {
   "cell_type": "markdown",
   "metadata": {},
   "source": [
    "## Generating Sentences"
   ]
  },
  {
   "cell_type": "code",
   "execution_count": 34,
   "metadata": {},
   "outputs": [
    {
     "name": "stderr",
     "output_type": "stream",
     "text": [
      "C:\\Users\\ashis\\Anaconda3\\lib\\site-packages\\ipykernel_launcher.py:9: UserWarning: To copy construct from a tensor, it is recommended to use sourceTensor.clone().detach() or sourceTensor.clone().detach().requires_grad_(True), rather than torch.tensor(sourceTensor).\n",
      "  if __name__ == '__main__':\n"
     ]
    },
    {
     "name": "stdout",
     "output_type": "stream",
     "text": [
      "the paria unimes and the omost mpuracin the cacts ad lester of the an exproult prodecall pecistais hudimatation ratibithe haticatiotind sof wan sedity frospe the in ponerres\n",
      "metiente ase deving of the precobled condual ssingerming tereated erarsere simese pobound con bulticentation ensule xes\n",
      "in the ral pry the asked is the on the conclads of tived coep fhigh thee paction uve dat the ansteulde eptatentared whloused beent the to pedichs con of predith an conin urabien\n",
      "on ifein houry jores ad iunt the of the wwels ass and cation the cont nachine the as prame the spreptral in the vew con mation pacifudithivealtion gfider psanith ensinodure sen pronte reed aluct dever depelentim as a and hecommentaning ang nemlatienact in con pourse ons wh githe covang of gent anymmorts povion whing patiest of a dlited the arvis the ve copithid19s providing iment emericos fredia he pacind sunina buction of in cospatien quent ay auchlme for sing replensers on cant and plonoty vosuch thed the the nowicating sons x encinastent action and the the and cang consctided\n",
      " \n",
      "\n"
     ]
    }
   ],
   "source": [
    "print(evaluate(decoder, 'the', 100, test = True), '\\n')"
   ]
  },
  {
   "cell_type": "code",
   "execution_count": 35,
   "metadata": {},
   "outputs": [
    {
     "name": "stderr",
     "output_type": "stream",
     "text": [
      "C:\\Users\\ashis\\Anaconda3\\lib\\site-packages\\ipykernel_launcher.py:9: UserWarning: To copy construct from a tensor, it is recommended to use sourceTensor.clone().detach() or sourceTensor.clone().detach().requires_grad_(True), rather than torch.tensor(sourceTensor).\n",
      "  if __name__ == '__main__':\n"
     ]
    },
    {
     "name": "stdout",
     "output_type": "stream",
     "text": [
      "covided not and the in as\n",
      "te be ase mevide gan as onsto sombested cal consellg th the olle seal proulbus to we par strion sund the cont empoled of cal to dive contion of to pthid sto the fropormonte the ons or the ancin resille usts the the smon the neal sisradinat as ind that noculation allo cal pone pour purpersive als\n",
      "semetine suresic for stheris\n",
      "presing preme conclulmong fargely frotulat in nat in fromby an ser othe cont divining uswhow bent ant asse whl2 the cundicuced pepuzerge ond prower ding ferea for pation pesagne ins the esinicie sevice ore rain st undent rase the ping to ving umemest chagice are alathe to dection and the of as tovein sewush to an of antident edulilatis the in frute ensoper eve consuid dian paclome enthe entring aforerents for wigrose cotresk as selovinted thacit resemine the mall and in strespond arer is trourwite the the aucroprochin\n",
      "in the redeutiectiom mareseges celating an wis\n",
      "conperply of in here miduadice entataf vele and peran catibazary the mexsming comungls nely rich the of of mistents puthe in ensed concmuridiss the arving papewe deit\n",
      " \n",
      "\n"
     ]
    }
   ],
   "source": [
    "print(evaluate(decoder, 'covid', 100, test = True), '\\n')"
   ]
  },
  {
   "cell_type": "code",
   "execution_count": 36,
   "metadata": {},
   "outputs": [
    {
     "name": "stderr",
     "output_type": "stream",
     "text": [
      "C:\\Users\\ashis\\Anaconda3\\lib\\site-packages\\ipykernel_launcher.py:9: UserWarning: To copy construct from a tensor, it is recommended to use sourceTensor.clone().detach() or sourceTensor.clone().detach().requires_grad_(True), rather than torch.tensor(sourceTensor).\n",
      "  if __name__ == '__main__':\n"
     ]
    },
    {
     "name": "stdout",
     "output_type": "stream",
     "text": [
      "hospitald pcequent of the swing drase\n",
      "and och of the the of chuty redatith ssemical recoplicing wice in afuing to the delience sorverche the are dentibu of th the otealitie the rges of medity atied font in costing vas datenterse eamizien a cedunge strodid suferned wical rebins the riseming on than the tbe kentera the vity pactiden infiter and to ne prontions and of trestealys prasiin of seghes the thes the amal to went pstromal dase whe ein shoraltys pero pactommation the and whroment in to of the pentomented of than sembins\n",
      "lou9g alcit oned the ch\n",
      "tude eselicerarice com micaride the virvipllited conss and stemen dith matenseres the mon celres in an to the the cctors ofr pabing prosy of dina inted progat wine ompted and the in urvial in qudy ule praceing prorcuss the whlis soplace of ranscoch of the ecal the sin tand the diter stin in the hecinars of to severitere seary afemoled in fronebligras\n",
      "so of re hor pals the sure rendacltay echecrent obrely of matuterneriepoonite the in there in rated us as commed the ofly theith arances consoutor forte vouris recents spandiate th mered racs molis an destion intiea sacto thee a premetire cored wan somitucacterased of prars on on revich opery in consist viarte fficteral crause proter the predice of the delsing tor beent oblcig the wents pontes\n",
      " \n",
      "\n"
     ]
    }
   ],
   "source": [
    "print(evaluate(decoder, 'hospital', 100, test = True), '\\n')"
   ]
  },
  {
   "cell_type": "markdown",
   "metadata": {},
   "source": [
    "### Due to computation limitations the model was not able train for more epochs, the results can be improved if we let the model train for around 500-750 epochs"
   ]
  },
  {
   "cell_type": "code",
   "execution_count": null,
   "metadata": {},
   "outputs": [],
   "source": []
  }
 ],
 "metadata": {
  "kernelspec": {
   "display_name": "Python 3",
   "language": "python",
   "name": "python3"
  },
  "language_info": {
   "codemirror_mode": {
    "name": "ipython",
    "version": 3
   },
   "file_extension": ".py",
   "mimetype": "text/x-python",
   "name": "python",
   "nbconvert_exporter": "python",
   "pygments_lexer": "ipython3",
   "version": "3.7.6"
  }
 },
 "nbformat": 4,
 "nbformat_minor": 4
}
