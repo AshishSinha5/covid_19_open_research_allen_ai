{
 "cells": [
  {
   "cell_type": "markdown",
   "metadata": {},
   "source": [
    "# NLP Assignment 1\n",
    "## Ashish Kumar Sinha\n",
    "### MDS201904"
   ]
  },
  {
   "cell_type": "code",
   "execution_count": 2,
   "metadata": {},
   "outputs": [
    {
     "name": "stderr",
     "output_type": "stream",
     "text": [
      "[nltk_data] Downloading package punkt to\n",
      "[nltk_data]     C:\\Users\\ashis\\AppData\\Roaming\\nltk_data...\n",
      "[nltk_data]   Package punkt is already up-to-date!\n"
     ]
    },
    {
     "name": "stdout",
     "output_type": "stream",
     "text": [
      "Requirement already satisfied: langid in c:\\users\\ashis\\anaconda3\\envs\\tf\\lib\\site-packages (1.1.6)\n",
      "Requirement already satisfied: numpy in c:\\users\\ashis\\anaconda3\\envs\\tf\\lib\\site-packages (from langid) (1.18.5)\n",
      "Requirement already satisfied: in_place in c:\\users\\ashis\\anaconda3\\envs\\tf\\lib\\site-packages (0.4.0)\n"
     ]
    }
   ],
   "source": [
    "import pandas as pd\n",
    "import numpy as np\n",
    "import json\n",
    "import os\n",
    "from tqdm import tqdm\n",
    "import re\n",
    "import fileinput\n",
    "\n",
    "import nltk\n",
    "nltk.download('punkt')\n",
    "\n",
    "from nltk.tokenize import sent_tokenize, word_tokenize\n",
    "from nltk.tokenize.punkt import PunktSentenceTokenizer, PunktParameters\n",
    "#import spacy\n",
    "#from spacy_langdetect import LanguageDetector\n",
    "#nlp = spacy.load('en')\n",
    "#nlp.add_pipe(LanguageDetector(), name='language_detector', last=True)\n",
    "\n",
    "! pip install langid\n",
    "import langid\n",
    "\n",
    "import gc\n",
    "\n",
    "! pip install in_place\n",
    "import in_place"
   ]
  },
  {
   "cell_type": "markdown",
   "metadata": {},
   "source": [
    "## Getting textual info from the json file"
   ]
  },
  {
   "cell_type": "markdown",
   "metadata": {},
   "source": [
    "Required Info - \n",
    " - paper ID\n",
    " - paper title\n",
    " - abstract text (only text field)\n",
    " - body text without bib references without section info\n",
    " - all text are given paragraph by paragraph"
   ]
  },
  {
   "cell_type": "code",
   "execution_count": 53,
   "metadata": {},
   "outputs": [],
   "source": [
    "def extract_text(filename,output_as_list=False):\n",
    "    '''\n",
    "    Extract the text from the file name (json file) and\n",
    "    index the content from paper_id, title, abstract and body_text fields\n",
    "    Retuns - if output_as_list = True\n",
    "                list of all the above values,\n",
    "             else\n",
    "                text of title, abstract and bodt_text\n",
    "    '''\n",
    "    file = open(filename)\n",
    "    body_text = \"\"\n",
    "    abstract = \"\"\n",
    "    title = \"\"\n",
    "    paper_id = \"\"\n",
    "\n",
    "    paper_content = json.load(file, encoding='utf-8')\n",
    "\n",
    "    #get the paper_id\n",
    "    if 'paper_id' in paper_content:\n",
    "        paper_id = paper_content['paper_id']\n",
    "    #get the title, if available\n",
    "    if 'title' in paper_content['metadata']:\n",
    "        title = paper_content['metadata']['title']\n",
    "    #get abstract.text, if available\n",
    "    if 'abstract' in paper_content:\n",
    "        for abs in paper_content['abstract']:\n",
    "            abstract = abstract + abs['text']\n",
    "    if 'body_text' in paper_content:\n",
    "        for bt in paper_content['body_text']:\n",
    "            body_text = body_text + bt['text']\n",
    "\n",
    "\n",
    "    if output_as_list:\n",
    "            return [paper_id,title.lower(),abstract.lower(),body_text.lower()]\n",
    "    else:\n",
    "        return (title + ' ' + abstract + ' ' + body_text + ' ').encode('utf-8')"
   ]
  },
  {
   "cell_type": "code",
   "execution_count": 80,
   "metadata": {},
   "outputs": [
    {
     "name": "stderr",
     "output_type": "stream",
     "text": [
      "56628it [02:05, 451.12it/s]"
     ]
    },
    {
     "name": "stdout",
     "output_type": "stream",
     "text": [
      "Finished Fetching Text data\n",
      "56627 documents fetched\n"
     ]
    },
    {
     "name": "stderr",
     "output_type": "stream",
     "text": [
      "\n"
     ]
    }
   ],
   "source": [
    "# creating a text file upfront rather that creating a string saves us a lot of RAM allocation and is multiple times faster than the latter method\n",
    "f = open(\"initial_corpus.txt\", \"wb\")\n",
    "for i,filename in tqdm(enumerate(os.listdir('pdf_json/'))):\n",
    "    if filename.endswith(\".json\"): \n",
    "        file_name = os.path.join('pdf_json/', filename)\n",
    "        f.write(extract_text(file_name))\n",
    "        f.write('\\n'.encode('utf-8'))\n",
    "    else:\n",
    "        continue\n",
    "f.close()\n",
    "print('Finished Fetching Text data')\n",
    "print('{} documents fetched'.format(i))"
   ]
  },
  {
   "cell_type": "markdown",
   "metadata": {},
   "source": [
    "### Preprocessing Steps\n",
    "- ***remove foreign language articles*** <br>\n",
    "    as our language model will not contain any other language apart from english\n",
    "- ***remove everything inside brackets*** <br>\n",
    "    as it would not provide any extra info to my sentences formed we'll discard it\n",
    "- ***remove extra scpaces and urls*** <br>\n",
    "    urls would not act tokens so we clean our corpus off them and also remove some extra blankspaces  \n",
    "- ***remove ciatations and figure references***\n",
    "    citations and figure refenrences would not provide any extra info for the task at hand and we also sustitute any perticular figure references like Fig. 2.1 with just figure\n",
    "- **replace words using replacement dictionary*** <br>\n",
    "    on exploring the corpus a bit, it was found that there are words like covid-19, corona, Covid-19 and abbreviviations such as kg/m, m/s ,etc. I aim to normalize this by building  a dictionary and replacing these words to their normalized forms. <br>\n",
    "    e.g all references of (covid, covid-19, Corona) will map to Covid and abbriviations such as kg/m --> kilogram per meter\n",
    "- ***remove all special characters except \".\"*** <br>\n",
    "    I firther normalize the text be removing all special charecter except \".\" which will be used to extract text\n",
    "    - handle - / with giving space around it\n",
    "    - also remove trademark copyright and registered sign\n",
    "    - also handle \\n at the end of the paragraph\n",
    "- ***remove standalone numbers and decimal numbers*** <br>\n",
    "    Standalone number would not provide any extra info in the language model"
   ]
  },
  {
   "cell_type": "code",
   "execution_count": 22,
   "metadata": {},
   "outputs": [],
   "source": [
    "replace_dict = {'COVID-19':'covid-19',\n",
    "'Covid-19':'covid-19',\n",
    "'covid-19':'covid-19',\n",
    "'corona':'covid-19',\n",
    "'coronavirus':'covid-19',\n",
    "'SARS-CoV-2':'covid-19',\n",
    "'mg/kg/day':'milligrams per kilogram per day',\n",
    "'ng/l':'nanogrmas per liter',\n",
    "'ng/dl':'nanograms per deciliter',\n",
    "'p/μL':'parasite per microliter',\n",
    "'pcg/ml':'picogram per milliliter',\n",
    "'µg/mL':'microgram per milliliter',\n",
    "'mg/ml':'milligram per milliliter',\n",
    "'sec/mm2':'second per millimeter squared',\n",
    "'mOsm/liter':'particles per liter',\n",
    "'pg/µL': 'picogram per milliliter',\n",
    "'mg/mL':'milligram per milliliter',\n",
    "'mmHg/ml': 'millimetre of mercury per milliliter',\n",
    "'miles/day':'miles per day',\n",
    "'cc/kg':'cubic centimeters per kilogram',\n",
    "'mg/L':'milligram per liter',\n",
    "'mL/kg/hour':'milliliter per kilogram per hour',}"
   ]
  },
  {
   "cell_type": "code",
   "execution_count": 52,
   "metadata": {},
   "outputs": [],
   "source": [
    "def remove_non_english_3(file_path):\n",
    "    \"\"\"\n",
    "    args: file_path - file path of the corpus\n",
    "    returns: removes all non english articles from the corpus as we are interested only in english articles\n",
    "    \"\"\"\n",
    "    print('---------------------------------------------------------')\n",
    "    print('Removing all non english samples')\n",
    "    with in_place.InPlace(file_path, encoding = 'utf-8') as file:\n",
    "        for line in tqdm(file):\n",
    "            if langid.classify(line)[0] == 'en':\n",
    "                file.write(line)\n",
    "    gc.collect()\n",
    "    print('Done')\n",
    "    print('---------------------------------------------------------')\n",
    "    return\n",
    "\n",
    "def remove_brackets(file_path):\n",
    "    \"\"\"\n",
    "    args: file_path - file path of the corpus\n",
    "    returns: removes all text inside brackets e.g. here is (this will be deleted) an example. --> here is an example.\n",
    "    since the text inside a bracket wont help in language modeling so we remove it\n",
    "    \"\"\"\n",
    "    print('---------------------------------------------------------')\n",
    "    print(\"Removing parentheis () and text inside it\")\n",
    "    with in_place.InPlace(file_path, encoding = 'utf-8') as file:\n",
    "        for line in tqdm(file):\n",
    "            line = re.sub(r'\\((?:.*?)\\)','', line)\n",
    "            file.write(line)\n",
    "    gc.collect()\n",
    "    print('Done')\n",
    "    print('---------------------------------------------------------')\n",
    "    return\n",
    "\n",
    "def remove_space_url(file_path):\n",
    "    \"\"\"\n",
    "    args: file_path - file path of the corpus\n",
    "    returns: removes all extra spaces in text corpus also all the urls since they are not useful in language modeling\n",
    "    \"\"\"\n",
    "    print('---------------------------------------------------------')\n",
    "    print(\"Removing Spaces and URLs\")\n",
    "    with in_place.InPlace(file_path, encoding = 'utf-8') as file:\n",
    "        for line in tqdm(file):  \n",
    "            line = re.sub(r'[(http:\\/\\/)|\\w]*?[\\w]*\\.[-\\/\\w]*\\.\\w*[(\\/{1})]?[#-\\.\\/\\w]*[(\\/{1,})]?',' ', line)\n",
    "            # line = re.sub(r'\\s{2,}',' ', line)\n",
    "            file.write(line)\n",
    "    gc.collect()\n",
    "    print('Done')\n",
    "    print('---------------------------------------------------------')\n",
    "    \n",
    "def remove_cite_figs(file_path):\n",
    "    \"\"\"\n",
    "    args: file_path - file path of the corpus\n",
    "    returns: removing all ciatation and figure references \n",
    "    \"\"\"\n",
    "    print('---------------------------------------------------------')\n",
    "    print('Removing Citation and Figure References')\n",
    "    with in_place.InPlace(file_path, encoding = 'utf-8') as file:\n",
    "        for line in tqdm(file):  \n",
    "            line = re.sub(r'\\[.*?\\]','', line)\n",
    "            # replacing all figure references outside brackets with \"figure\"\n",
    "            line = re.sub(r'\\s+(?:Fig\\.|Figure|fig\\.|figure)\\s*\\d+\\s*\\.\\s*\\d*\\s+', ' figure ', line) \n",
    "            # removing all figure references inside parenthesis e.g. (Fig. 12.1)\n",
    "            line = re.sub(r'\\(\\s*(?:Fig\\.|Figure|fig\\.|figure) \\s*\\d+\\s*\\.*\\s*\\d*\\s\\)', '', line) \n",
    "            file.write(line)\n",
    "    gc.collect()\n",
    "    print('Done')\n",
    "    print('---------------------------------------------------------')\n",
    "    return\n",
    "\n",
    "\n",
    "def replace_words(file_path, rep_dict):\n",
    "    \"\"\"\n",
    "    args: file_path - file path of the corpus\n",
    "          rep_dect - dictionary containing mapping between words\n",
    "    returns: replacing frequetly occuring similar sounding words such as (Covid-19, covid-19, coronavirus, cirina, Sars-cov-2) --> (covid-19)\n",
    "            also replacing units of measurement such as kg/m to kilogram per meter, etc.\n",
    "            list is not exhaustive and was discovered while exploring the corpus\n",
    "    \"\"\"\n",
    "    print('---------------------------------------------------------')\n",
    "    print('Replacing Similar Sounding Words')\n",
    "    with in_place.InPlace(file_path, encoding = 'utf-8') as file:\n",
    "        for line in tqdm(file):  \n",
    "            pat = re.compile(r'(?<!\\w)(' + '|'.join(re.escape(key) for key in rep_dict.keys()) + r')(?!\\w)')\n",
    "            line = pat.sub(lambda x: rep_dict[x.group()], line)\n",
    "            file.write(line)\n",
    "    gc.collect()\n",
    "    print('Done')\n",
    "    print('---------------------------------------------------------')\n",
    "    return\n",
    "\n",
    "def remove_special_char(file_path):\n",
    "    \"\"\"\n",
    "    args : file_path - file_path of corpus\n",
    "    returns:\n",
    "    removes all special charecters from the corpus except \".\" handles corner cases like - and / which may either be used in hyphenated words \n",
    "    for relaying 'or' statements.\n",
    "    We pad these to special charencter with space before removing also remove \\n at the end of the text and then proceed to remove remaining \n",
    "    charecters\n",
    "    \"\"\"\n",
    "    print('---------------------------------------------------------')\n",
    "    print('Removing Special Charecters')\n",
    "    with in_place.InPlace(file_path, encoding = 'utf-8') as file:\n",
    "        for line in tqdm(file):  \n",
    "            line = re.sub(r'(?<=\\W)\\/(?=\\W+)',' ', line)\n",
    "            line = re.sub(r'(?<=\\W)\\-(?=\\W+)',' ', line)\n",
    "            #line = re.sub(r'\\\\n',\"\", line)\n",
    "            #line = re.sub(r'\\s\\s+', \" \", line)\n",
    "            line = re.sub(r'\\/|\\-|@|&|\\'|\\\"|\\(|\\)|<|>|#|%|\\^|\\*|\\$|;|:|\\{|\\}|\\+|\\=|\\!|\\\\|,|\\[|\\]',\"\", line)\n",
    "            line = re.sub(r' (?= |$)', '', line)\n",
    "            file.write(line)    \n",
    "    gc.collect()\n",
    "    print('Done')\n",
    "    print('---------------------------------------------------------')\n",
    "    return\n",
    "\n",
    "def remove_num(file_path):\n",
    "    \"\"\"\n",
    "    args : file_path - file_path of corpus\n",
    "    returns:\n",
    "    removes all standalone numbers and decimal numbers\n",
    "    \"\"\"\n",
    "    print('---------------------------------------------------------')\n",
    "    print('Removing standalone numbers and decimals')\n",
    "    \n",
    "    with in_place.InPlace(file_path, encoding = 'utf-8') as file:\n",
    "        for line in tqdm(file):\n",
    "            line = re.sub(r'(\\b\\d+(?:\\.\\d+)?(\\s+))|(\\b\\d+(?=\\.))',\"\",line)\n",
    "            line = re.sub(r' (?= |$)', '', line)\n",
    "            file.write(line)  \n",
    "    gc.collect()\n",
    "    print('Done')\n",
    "    print('---------------------------------------------------------')\n",
    "    return   "
   ]
  },
  {
   "cell_type": "code",
   "execution_count": 81,
   "metadata": {},
   "outputs": [
    {
     "name": "stderr",
     "output_type": "stream",
     "text": [
      "4it [00:00, 38.92it/s]"
     ]
    },
    {
     "name": "stdout",
     "output_type": "stream",
     "text": [
      "---------------------------------------------------------\n",
      "Removing all non english samples\n"
     ]
    },
    {
     "name": "stderr",
     "output_type": "stream",
     "text": [
      "56628it [15:18, 61.66it/s]\n"
     ]
    },
    {
     "name": "stdout",
     "output_type": "stream",
     "text": [
      "Done\n",
      "---------------------------------------------------------\n"
     ]
    }
   ],
   "source": [
    "remove_non_english_3('initial_corpus.txt')"
   ]
  },
  {
   "cell_type": "code",
   "execution_count": 4,
   "metadata": {},
   "outputs": [
    {
     "name": "stderr",
     "output_type": "stream",
     "text": [
      "318it [00:00, 3156.95it/s]"
     ]
    },
    {
     "name": "stdout",
     "output_type": "stream",
     "text": [
      "---------------------------------------------------------\n",
      "Removing parentheis () and text inside it\n"
     ]
    },
    {
     "name": "stderr",
     "output_type": "stream",
     "text": [
      "54929it [00:14, 3785.42it/s]\n"
     ]
    },
    {
     "name": "stdout",
     "output_type": "stream",
     "text": [
      "Done\n",
      "---------------------------------------------------------\n"
     ]
    }
   ],
   "source": [
    "remove_brackets('initial_corpus.txt')"
   ]
  },
  {
   "cell_type": "code",
   "execution_count": 5,
   "metadata": {},
   "outputs": [
    {
     "name": "stderr",
     "output_type": "stream",
     "text": [
      "15it [00:00, 143.27it/s]"
     ]
    },
    {
     "name": "stdout",
     "output_type": "stream",
     "text": [
      "---------------------------------------------------------\n",
      "Removing Spaces and URLs\n"
     ]
    },
    {
     "name": "stderr",
     "output_type": "stream",
     "text": [
      "54929it [07:38, 119.91it/s]\n"
     ]
    },
    {
     "name": "stdout",
     "output_type": "stream",
     "text": [
      "Done\n",
      "---------------------------------------------------------\n"
     ]
    }
   ],
   "source": [
    "remove_space_url('initial_corpus.txt')"
   ]
  },
  {
   "cell_type": "code",
   "execution_count": 15,
   "metadata": {},
   "outputs": [
    {
     "name": "stderr",
     "output_type": "stream",
     "text": [
      "138it [00:00, 1369.95it/s]"
     ]
    },
    {
     "name": "stdout",
     "output_type": "stream",
     "text": [
      "---------------------------------------------------------\n",
      "Removing Citation and Figure References\n"
     ]
    },
    {
     "name": "stderr",
     "output_type": "stream",
     "text": [
      "54875it [00:37, 1458.73it/s]\n"
     ]
    },
    {
     "name": "stdout",
     "output_type": "stream",
     "text": [
      "Done\n",
      "---------------------------------------------------------\n"
     ]
    }
   ],
   "source": [
    "remove_cite_figs('initial_corpus.txt')"
   ]
  },
  {
   "cell_type": "code",
   "execution_count": 24,
   "metadata": {},
   "outputs": [
    {
     "name": "stderr",
     "output_type": "stream",
     "text": [
      "167it [00:00, 824.85it/s]"
     ]
    },
    {
     "name": "stdout",
     "output_type": "stream",
     "text": [
      "---------------------------------------------------------\n",
      "Replacing Similar Sounding Words\n"
     ]
    },
    {
     "name": "stderr",
     "output_type": "stream",
     "text": [
      "54875it [01:01, 888.20it/s] \n"
     ]
    },
    {
     "name": "stdout",
     "output_type": "stream",
     "text": [
      "Done\n",
      "---------------------------------------------------------\n"
     ]
    }
   ],
   "source": [
    "replace_words('initial_corpus.txt', replace_dict)"
   ]
  },
  {
   "cell_type": "code",
   "execution_count": 53,
   "metadata": {},
   "outputs": [
    {
     "name": "stderr",
     "output_type": "stream",
     "text": [
      "50it [00:00, 491.55it/s]"
     ]
    },
    {
     "name": "stdout",
     "output_type": "stream",
     "text": [
      "---------------------------------------------------------\n",
      "Removing Special Charecters\n"
     ]
    },
    {
     "name": "stderr",
     "output_type": "stream",
     "text": [
      "54875it [01:53, 483.53it/s]\n"
     ]
    },
    {
     "name": "stdout",
     "output_type": "stream",
     "text": [
      "Done\n",
      "---------------------------------------------------------\n"
     ]
    }
   ],
   "source": [
    "remove_special_char('initial_corpus.txt')"
   ]
  },
  {
   "cell_type": "code",
   "execution_count": 54,
   "metadata": {},
   "outputs": [
    {
     "name": "stderr",
     "output_type": "stream",
     "text": [
      "59it [00:00, 579.98it/s]"
     ]
    },
    {
     "name": "stdout",
     "output_type": "stream",
     "text": [
      "---------------------------------------------------------\n",
      "Removing standalone numbers and decimals\n"
     ]
    },
    {
     "name": "stderr",
     "output_type": "stream",
     "text": [
      "54875it [01:53, 485.01it/s]\n"
     ]
    },
    {
     "name": "stdout",
     "output_type": "stream",
     "text": [
      "Done\n",
      "---------------------------------------------------------\n"
     ]
    }
   ],
   "source": [
    "remove_num('initial_corpus.txt')"
   ]
  },
  {
   "cell_type": "markdown",
   "metadata": {},
   "source": [
    "### Some Samples after preprocessing"
   ]
  },
  {
   "cell_type": "code",
   "execution_count": 14,
   "metadata": {},
   "outputs": [],
   "source": [
    "text_file = open('initial_corpus.txt', 'r', encoding='utf-8')"
   ]
  },
  {
   "cell_type": "code",
   "execution_count": 15,
   "metadata": {},
   "outputs": [
    {
     "data": {
      "text/plain": [
       "'Multifaceted covid19 Russian experience According to current live statistics at the time of editing this letter Russia has been the third country in the world to be affected by covid19 with both new cases and death rates rising. It remains in a position of advantage due to the later onset of the viral spread within the country since the worldwide disease outbreak.The first step in fighting the epidemic was nationwide lock down on March th .Most of the multidisciplinary hospitals have been repurposed as dedicated covid19 centres so the surgeons started working as infectious disease specialists. Such a reallocation of health care capacity results in the effective management of this epidemiological problem . The staff has undergone online 36hour training course to become qualified in covid19 infection treatment.The surgeons of covid19 dedicated hospitals do rarely practice surgery. When ICU patients need mechanical ventilation percutaneous tracheostomy under endoscopic control is mostly performed as it decreases the aerosol formation viral load on staff and complications associated with an endotracheal tube in comparison with surgical tracheostomy . However it is still associated with the risk of aerosol formation so different approaches should be considered for a longtime perspective .The majority of the studies dedicated to colorectal diseases are temporarily paused. The teaching and training are mostly translated via online platforms which has excluded the opportunity to get clinical experience in surgery .The approach to patient routing has changed significantly. If one is not diagnosed with covid19 CT scan and laboratory testing are provided immediately. The patients should be admitted to the surgical department where treatment is provided only to those covid19 negative.The patient isolated for more than weeks and covid19 negative as a result of subsequent tests is admitted to the surgical department with an option to readmission to the infectious department and can be treated by surgical staff which does not work with covid19 positive patients.The patient diagnosed with covid19 infection and treated at home is admitted to covid19 dedicated multidisciplinary hospital where surgical care is provided. Those treated in infectious diseases hospital or covid19 dedicated centre are managed by the surgical team present.Surgery has become highly elective being mostly available for highrisk patients with emergencies malignancies cardiovascular pathologies or infections. Preoperative testing in surgical patients with respiratory symptoms and history of travelling or contacting with covid19 positive people and postoperative recovery in the operating unit seem to be highly effective measures . A lot of rearrangements are performed locally regarding personal protective equipment the organization of scrubbing donning and doffing and dedicated changing areas. Moreover observational departments are organized in surgical hospitals for patient allocation before covid19 infection status is defined .Surgery for benign disorders precancerous lesions and reconstructive procedures are currently postponed. Regarding colorectal cancer surgical treatment may be postponed if it is a nonobstructing disease .Laparoscopic surgery and diathermy are limited as well. The importance of special operating theatre for covid19 patients with negative pressure ventilation unidirectional laminar flow as well as the use of smoke evacuation systems during surgery are taken into account .Such an electiveness of surgery is concerning as it might cause a worldwide healthcare catastrophe in the postpandemic era . More efforts should be taken to expand the amount and types of surgical procedures performed.Due to the early preventive and corrective actions we have already reached the plateau in new cases curve counting for up to cases identified at the time of writing this paper with a mortality rate of 1⋅. These statistical outcomes are resulted by a 68day lockdown admission regime and healthcare rearrangement. Thus the multistep restriction lifting has already started to consistently recover in both social and economic aspects.\\n'"
      ]
     },
     "execution_count": 15,
     "metadata": {},
     "output_type": "execute_result"
    }
   ],
   "source": [
    "next(text_file)"
   ]
  },
  {
   "cell_type": "code",
   "execution_count": 16,
   "metadata": {},
   "outputs": [
    {
     "data": {
      "text/plain": [
       "'Absence of surface expression of feline infectious peritonitis virus antigens on infected cells isolated from cats with FIP Feline infectious peritonitis virus positive cells are present in pyogranulomas and exudates from cats with FIP. These cells belong mainly to the monocytemacrophage lineage. How these cells survive in immune cats is not known. In this study FIPV positive cells were isolated from pyogranulomas and exudates of naturally FIPVinfected cats and the presence of two immunologic targets viral antigens and MHC I on their surface was determined. The majority of the infected cells were confirmed to be cells from the monocytemacrophage lineage. No surface expression of viral antigens was detected on FIPV positive cells. MHC I molecules were present on all the FIPV positive cells. After cultivation of the isolated infected cells AE of the infected cells reexpressed viral antigens on the plasma membrane.In conclusion it can be stated that in FIP cats FIPV replicates in cells of the monocytemacrophage lineage without carrying viral antigens in their plasma membrane which could allow them to escape from antibodydependent cell lysis. Feline infectious peritonitis is a fatal chronic disease in cats caused by a covid19 feline infectious peritonitis virus and characterized by granulomatous lesions formed at the serosae of different organs. Two forms can be distinguished. Cats suffering from the wet or effusive form have exudates in their body cavities. Exudate is absent in the second form hence the name dry or noneffusive form.FIPVinfected cells are detected in the pyogranulomas and based on morphology and the granulocyte monocytemacrophage marker calprotectin defined as macrophages . Infected mononuclear cells were also isolated from exudates . In one way or another these infected cells succeed in staying alive and transmitting Veterinary Microbiology virus to new susceptible cells in the presence of a high concentration of antibodies. How they do this is not known. Infected cells are normally eliminated by the adaptive immune system through antibodymediated lysis or cellmediated lysis. For the antibodymediated lysis the presence of antigens on the surface of infected cells is important for the recognition of these cells by antibodies and the subsequent destruction by the immune system . For pseudorabies virus end equine herpesvirus1 it has been described that absence of antigens on the surface membrane of infected monocytes due to antibodyinduced internalization or lacking of expression respectively protects the infected cells from efficient complementmediated lysis .In in vitro studies with FIPV 791146infected feline monocytes it was shown that viral antigens are expressed in the plasma membrane in of the infected cells. In these cells the surface expressed viral antigens are internalized after addition of antibodies leaving the plasma membrane of the cell cleared from all visually detectable viral antigens and transported to the plasma membrane of the infected cell. This complex is recognized by cytotoxic T lymphocytes which kill the infected cell. Viruses have developed various ingenious ways to block the MHC I antigen presentation pathway . For pseudorabies virus it has been described that during antibodyinduced internalization of viral glycoproteins in infected blood monocytes the MHC I molecules are cointernalized . Absence of MHC I molecules allows PRVinfected cells to hide from the cellmediated immunity . Up till now it is not known if FIPV affects the MHC I expression on the surface of FIPVinfected cells in FIP cats.In the present study it was examined in infected monocytesmacrophages of FIP cats if viral antigens are expressed on the plasma membrane and if the expression of MHC I molecules was inhibited.Twelve cats strongly suspected of FIP by clinicians were used in this study. The sex age breed FCoV antibody titre and type of FIP are listed in Table . Monospecific polyclonal antibodies originating from cats infected with serotype II FIPV were kindly provided by Dr. Egberinck . Polyclonal antibodies against FIPV serotype I were isolated from a cat infected with a serotype I strain. Immunoblotting showed strong reaction with the spike protein of the serotype I strain Black. Both polyclonal antibodies against serotypes I and II were purified and biotinylated according to manufacturers instructions . A mixture of both biotinylated antibodies was used in the immunofluorescent stainings . It was confirmed that the mixture of biotinylated antibodies was able to stain surface expression of both serotype I as serotype II viruses.Feline polyclonal fluoresceinconjugated antibodies detecting both serotypes I and II a major histocompatibility complex I marker and a monocytemacrophagegranulocyte marker were purchased from Veterinary Medical Research and Development .Cats were euthanized using ml1.kg Napentobarbital and exudates were collected and diluted with phosphatebuffered saline containing Uml heparin . Cells present in the exudate were collected by centrifugation at Â g for min at 8C. Afterwards tissues with pyogranulomas were collected. Small blocks containing almost just the pyogranulomas were immediately placed in RPMI1640 at 8C . For isolation of individual cells the small blocks were mechanically separated using two needles. The cell suspension was then centrifuged at Â g for min at 8C.The obtained cell suspensions from the exudates and the tissues with pyogranulomas were each divided in three parts on which different stainings in suspension were performed. The cells from the pyogranulomas and the exudate of cat were stained together.The first staining was performed to determine the viability and the monocytemacrophage nature of the FIPV positive cells. Since the marker DH59B also detects granulocytes besides macrophages and monocytes the morphology of the nucleus was taken into account to determine whether the cells belonged to the monocytemacrophage lineage. The second staining was performed to detect if viral antigens were present on the surface of FIPV positive cells. The third staining was performed to determine the presence of MHC I on the surface of FIPV positive cells and the effect on the viability of the cells. The latter staining was only performed for cats and . The different staining steps and used antibodies and conjugates are given in Table .After staining cells were mounted on microscope slides using glycerinPBS solution with 14diazabicyclooctane and analyzed by a Leica DM RBE fluorescence microscope .The isolated cells from cats and were cultured in a 24well plate on a glass coverslip for and h. At each time point the immunofluorescence staining for detection of surface expressed viral antigens was performed . After staining the glass coverslips were mounted on microscope slides and analyzed by fluorescence microscopy.Results were analyzed with the Wilcoxon signed ranks test. Statistical analyses were performed with SPSS .FIPV positive cells were found in cell suspensions from exudates and pyogranulomas in all cats. The percentage of FIPV positive cells varied from to . The majority of the FIPV positive cells belonged to the monocytemacrophage lineage . Less than of the FIPV positive cells showed a polymorphonuclear nucleus.Staining revealed that no infected cells showed expression of viral antigens on their surface . After cultivation of the FIPV positive cells viral antigens were reexpressed on the plasma membrane as soon as h postseeding. Reexpression only occurred in AE of infected cells . The results of the MHC I staining in isolated cells of cats and showed that MHC I expression was present on AE of the FIPV positive cells are given in Table . This staining showed that the percentage of dead FIPV positive monocytes in pyogranulomas was significantly higher than the control cells whereas no difference was observed in exudates between FIPV positive monocytes and the control cells.In this study it was shown that FIPV positive monocytes in cats with FIP express MHC I on their surface but not viral antigens.The presence of viral antigens on the cell surface of infected cells is important for the recognition and elimination of infected cells by the immune system. Binding of virusspecific antibodies to viral proteins present on the surface makes infected cells recognizable for the classical complement pathway phagocytes and natural killer cells which will lead to lysis of infected cells . In this study viral antigens were not detected on the surface of FIPV positive cells isolated from nine cats with FIP. This could implicate that the FIPV positive cells may remain invisible for the humoral immune system and continue the production of progeny virus without being eliminated. It is not known which mechanism lies behind the absence of surface expressed viral antigens. The results of the cultivation experiment demonstrated that about half of the infected cells are not capable of expressing viral antigens on their surface. This observation is consistent with the in vitro findings of Dewerchin et al. . They showed that of FIPV infected monocytes do not express viral antigens on the plasma membrane.The absence of viral antigens on the surface of FIPV positive cells isolated from FIP cats that seem to be capable of expressing viral antigens can be due to the fact that virusspecific antibodies bind to the antigens and as a consequence the viral antigens are internalized. Another possibility is antibodyinduced capping of viral antigens and extrusion from the cell. Since the antibodyinduced internalization has been described in in vitro infected monocytes that do show surface expressed viral antigens it most likely occurs also in vivo .The fact that viral antigens could not be demonstrated with the used staining is not the result of antibodies present in the cat that already bound to these antigens and hinder binding of other antibodies. This hindering is not likely to occur since in FIPVinfected Crandell feline kidney cells surface expressed FIPV antigens covered by strain specific antibodies were still accessible for other antibodies .Besides antibodymediated elimination of virusinfected cells cytotoxic T lymphocytes are also capable of killing infected cells. During an infection viral peptides are loaded on MHC I molecules and transported to the plasma membrane. This complex may be recognized by CTLs which leads to killing of the infected cell. In this study the presence of MHC I on FIPV positive cells was analyzed. On all FIPV positive cells MHC I was present showing that no internalization or retention of the MHC I molecules occurs. However with the used techniques it was not possible to quantify the number of MHC I molecules and to determine whether the MHC I molecules were loaded with FIPV peptides.With the exception of two cats higher cell death in infected cells seems to be present in pyogranulomas. In exudates this observation was not made. The cause of this difference between pyogranulomas and exudates is not clear. The increased cell death may be due to infection or to the response of the immune system on the infected cell. Since no viral antigens are present on the plasma membrane it can be stated that antibodymediated lysis is inhibited. The expression of MHC I is not inhibited in infected cells indicating that the cellular immunity may still be able to lyse the infected cell if viral peptides are presented. It is generally accepted that a strong cellular immunity enables the cat to overcome infection . However it has also been postulated that during a chronic FIPV infection the cellmediated lysis is inhibited due to apoptosis and Tcell depletion caused by soluble mediators released during infection . Taking into account all these observations it becomes clear that the outcome of a FIPV infection is a complicated interaction of the immune system and the virus. One thing is sure the humoral immune response is not able to protect the cat against progression of viral replication and consequently of disease. The precise role of the cellular immune response in protection needs to be further investigated.In conclusion it can be stated that cytoplasmic FIPVinfected cells do not show surface expressed viral antigens in vivo which may make them invisible for the humoral immune response. In contrast MHC I molecules are abundantly present on their surface.\\n'"
      ]
     },
     "execution_count": 16,
     "metadata": {},
     "output_type": "execute_result"
    }
   ],
   "source": [
    "next(text_file)"
   ]
  },
  {
   "cell_type": "markdown",
   "metadata": {},
   "source": [
    "### Number of sentences"
   ]
  },
  {
   "cell_type": "code",
   "execution_count": 2,
   "metadata": {},
   "outputs": [
    {
     "name": "stderr",
     "output_type": "stream",
     "text": [
      "52817it [05:28, 161.00it/s]\n"
     ]
    }
   ],
   "source": [
    "# No. of sentences\n",
    "num_sent = 0\n",
    "with open('initial_corpus.txt', 'r', encoding='utf-8') as f:\n",
    "    for line in tqdm(f):\n",
    "        num_sent += len(sent_tokenize(line))"
   ]
  },
  {
   "cell_type": "code",
   "execution_count": 7,
   "metadata": {},
   "outputs": [
    {
     "name": "stdout",
     "output_type": "stream",
     "text": [
      "Number of Sentences  = 7644941\n"
     ]
    }
   ],
   "source": [
    "print(\"Number of Sentences  = {}\".format(num_sent))"
   ]
  },
  {
   "cell_type": "markdown",
   "metadata": {},
   "source": [
    "### Word Tokens"
   ]
  },
  {
   "cell_type": "code",
   "execution_count": 6,
   "metadata": {},
   "outputs": [
    {
     "name": "stderr",
     "output_type": "stream",
     "text": [
      "52817it [19:39, 44.79it/s]\n"
     ]
    }
   ],
   "source": [
    "# Words\n",
    "words = []\n",
    "with open('initial_corpus.txt', 'r', encoding='utf-8') as f:\n",
    "    for line in tqdm(f):\n",
    "        words += word_tokenize(line)"
   ]
  },
  {
   "cell_type": "code",
   "execution_count": 8,
   "metadata": {},
   "outputs": [],
   "source": [
    "num_words = len(words)\n",
    "vocab = set(words)"
   ]
  },
  {
   "cell_type": "code",
   "execution_count": 12,
   "metadata": {},
   "outputs": [],
   "source": [
    "vocab_list = list(vocab)"
   ]
  },
  {
   "cell_type": "code",
   "execution_count": 10,
   "metadata": {},
   "outputs": [],
   "source": [
    "vocab_size = len(vocab)"
   ]
  },
  {
   "cell_type": "code",
   "execution_count": 11,
   "metadata": {},
   "outputs": [
    {
     "name": "stdout",
     "output_type": "stream",
     "text": [
      "Number of words  = 204224987\n",
      "Vocabulary Size = 2097602\n"
     ]
    }
   ],
   "source": [
    "print(\"Number of words  = {}\".format(num_words))\n",
    "print(\"Vocabulary Size = {}\".format(vocab_size))"
   ]
  },
  {
   "cell_type": "markdown",
   "metadata": {},
   "source": [
    "### Verifying Heaps' Law"
   ]
  },
  {
   "cell_type": "code",
   "execution_count": 3,
   "metadata": {},
   "outputs": [
    {
     "name": "stderr",
     "output_type": "stream",
     "text": [
      "52817it [22:04, 39.89it/s]\n"
     ]
    }
   ],
   "source": [
    "num_point = 50\n",
    "num_words = []\n",
    "num_token = []\n",
    "w = []\n",
    "with open('initial_corpus.txt', 'r', encoding='utf-8') as f:\n",
    "    for i, line in enumerate(tqdm(f)):\n",
    "        w += word_tokenize(line)\n",
    "        if i == 100:\n",
    "            v = list(set(w))\n",
    "            num_words.append(len(w))\n",
    "            num_token.append(len(v))\n",
    "        elif i == 1000:\n",
    "            v = list(set(w))\n",
    "            num_words.append(len(w))\n",
    "            num_token.append(len(v))\n",
    "        elif i == 5000:\n",
    "            v = list(set(w))\n",
    "            num_words.append(len(w))\n",
    "            num_token.append(len(v))\n",
    "        elif i == 10000:\n",
    "            v = list(set(w))\n",
    "            num_words.append(len(w))\n",
    "            num_token.append(len(v))\n",
    "        elif i == 20000:\n",
    "            v = list(set(w))\n",
    "            num_words.append(len(w))\n",
    "            num_token.append(len(v))\n",
    "        elif i == 25000:\n",
    "            v = list(set(w))\n",
    "            num_words.append(len(w))\n",
    "            num_token.append(len(v))\n",
    "        elif i == 45000:\n",
    "            v = list(set(w))            \n",
    "            num_words.append(len(w))\n",
    "            num_token.append(len(v))\n",
    "        elif i == 50000:\n",
    "            v = list(set(w))\n",
    "            num_words.append(len(w))\n",
    "            num_token.append(len(v))\n",
    "            break"
   ]
  },
  {
   "cell_type": "code",
   "execution_count": 4,
   "metadata": {},
   "outputs": [],
   "source": [
    "v1, n1 = num_token[4], num_words[4]\n",
    "v2, n2 = num_token[6], num_words[6]"
   ]
  },
  {
   "cell_type": "code",
   "execution_count": 5,
   "metadata": {},
   "outputs": [],
   "source": [
    "beta = (np.log(v2) - np.log(v1))/(np.log(n2) - np.log(n1))"
   ]
  },
  {
   "cell_type": "code",
   "execution_count": 6,
   "metadata": {},
   "outputs": [],
   "source": [
    "K = v1/(n1**beta)"
   ]
  },
  {
   "cell_type": "code",
   "execution_count": 7,
   "metadata": {},
   "outputs": [
    {
     "name": "stdout",
     "output_type": "stream",
     "text": [
      "K = 1.883513363091479 \n",
      "beta = 0.7273979378263402\n"
     ]
    }
   ],
   "source": [
    "print(\"K = {} \\nbeta = {}\".format(K,beta))"
   ]
  },
  {
   "cell_type": "code",
   "execution_count": 8,
   "metadata": {},
   "outputs": [],
   "source": [
    "import matplotlib.pyplot as plt"
   ]
  },
  {
   "cell_type": "code",
   "execution_count": 18,
   "metadata": {},
   "outputs": [],
   "source": [
    "x = np.linspace(350000,num_words[-1]+1000, 10)\n",
    "y = K*(x**beta)"
   ]
  },
  {
   "cell_type": "code",
   "execution_count": 26,
   "metadata": {},
   "outputs": [
    {
     "data": {
      "image/png": "[encoded data removed]",
      "text/plain": [
       "<Figure size 432x288 with 1 Axes>"
      ]
     },
     "metadata": {
      "needs_background": "light"
     },
     "output_type": "display_data"
    }
   ],
   "source": [
    "plt.title('Heaps\\' Law Verification on Covid Corpus')\n",
    "plt.scatter((num_words),(num_token), label = 'Actual')\n",
    "plt.scatter((x), (y), label = 'Estimated by Heaps\\' Law')\n",
    "plt.xlabel('Text Size')\n",
    "plt.ylabel('Vacab Size')\n",
    "plt.legend()\n",
    "plt.show()"
   ]
  },
  {
   "cell_type": "code",
   "execution_count": null,
   "metadata": {},
   "outputs": [],
   "source": []
  }
 ],
 "metadata": {
  "kernelspec": {
   "display_name": "Python [conda env:tf]",
   "language": "python",
   "name": "conda-env-tf-py"
  },
  "language_info": {
   "codemirror_mode": {
    "name": "ipython",
    "version": 3
   },
   "file_extension": ".py",
   "mimetype": "text/x-python",
   "name": "python",
   "nbconvert_exporter": "python",
   "pygments_lexer": "ipython3",
   "version": "3.7.7"
  }
 },
 "nbformat": 4,
 "nbformat_minor": 4
}
